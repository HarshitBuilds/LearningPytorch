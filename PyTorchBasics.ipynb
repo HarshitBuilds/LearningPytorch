{
  "nbformat": 4,
  "nbformat_minor": 0,
  "metadata": {
    "colab": {
      "provenance": []
    },
    "kernelspec": {
      "name": "python3",
      "display_name": "Python 3"
    },
    "language_info": {
      "name": "python"
    }
  },
  "cells": [
    {
      "cell_type": "markdown",
      "source": [
        "# Notebook to learn the basics and fundamentals of PyTorch. Self taught and coded and with the help of Youtube lectures."
      ],
      "metadata": {
        "id": "5GDwkyQOhKuF"
      }
    },
    {
      "cell_type": "markdown",
      "source": [],
      "metadata": {
        "id": "R3sGW9LLhZkQ"
      }
    },
    {
      "cell_type": "code",
      "source": [
        "#1 Tensor Basics\n",
        "import torch\n",
        "x = torch.empty(1) #scalar\n",
        "print(x)\n",
        "x = torch.empty(3) #vector(1D) with 3 values\n",
        "print(x)\n",
        "x = torch.empty(2,2,2,2) #4 dimensional tensor with random values\n",
        "print(x)\n",
        "x = torch.rand(3,3) #initialises random values in the tensor\n",
        "x = torch.rand(4,2) # 4 rows and 2 columns\n",
        "print(x)\n",
        "x = torch.ones(2,2,2) #initialises the tensor with ones"
      ],
      "metadata": {
        "id": "XRrGgMU4kZ2j",
        "outputId": "56ebc63d-bfd5-4e9b-960a-11ba78b60dc9",
        "colab": {
          "base_uri": "https://localhost:8080/"
        }
      },
      "execution_count": null,
      "outputs": [
        {
          "output_type": "stream",
          "name": "stdout",
          "text": [
            "tensor([-1.4506e+28])\n",
            "tensor([-1.4506e+28,  4.4118e-41,  3.5272e+02])\n",
            "tensor([[[[ 4.3457e+01,  0.0000e+00],\n",
            "          [-9.2821e+23,  4.4117e-41]],\n",
            "\n",
            "         [[ 0.0000e+00,  0.0000e+00],\n",
            "          [ 0.0000e+00,  0.0000e+00]]],\n",
            "\n",
            "\n",
            "        [[[ 0.0000e+00,  0.0000e+00],\n",
            "          [ 0.0000e+00,  0.0000e+00]],\n",
            "\n",
            "         [[ 0.0000e+00,  0.0000e+00],\n",
            "          [ 0.0000e+00,  0.0000e+00]]]])\n",
            "tensor([[0.2612, 0.3955],\n",
            "        [0.6821, 0.2630],\n",
            "        [0.2755, 0.9961],\n",
            "        [0.6179, 0.5675]])\n"
          ]
        }
      ]
    },
    {
      "cell_type": "code",
      "source": [
        "x.dtype #prints the data type\n",
        "x = torch.ones(2,2,dtype=torch.float64) #can change the data type of the tensor\n",
        "print(x.dtype)\n",
        "print(x.size())\n",
        "a = torch.tensor([[[56,32],[45,76]]])\n",
        "print(a.shape)"
      ],
      "metadata": {
        "id": "i_6g9KdMkrir",
        "outputId": "17a9e46c-56b6-4e38-b942-c9cf0f0456be",
        "colab": {
          "base_uri": "https://localhost:8080/"
        }
      },
      "execution_count": 29,
      "outputs": [
        {
          "output_type": "stream",
          "name": "stdout",
          "text": [
            "torch.float64\n",
            "torch.Size([2, 2])\n",
            "torch.Size([1, 2, 2])\n"
          ]
        }
      ]
    },
    {
      "cell_type": "code",
      "source": [
        "x = torch.tensor([4,5]) #Creating a 1D tensor with custom values\n",
        "print(x)\n",
        "print(x.shape) #.shape returns a tuple containing the size of the tensor.\n",
        "a = torch.tensor([[[56,32],[45,76]]]) #so in this case the tupple is [1,2,2]\n",
        "print(a.shape)\n",
        "print(a.shape[0], a.shape[1], a.shape[2])\n",
        "#print(a.shape[4]) #will give an error as there are only 3 elements in this tupple"
      ],
      "metadata": {
        "id": "jl3PSgi74vuv",
        "outputId": "ba9c928a-eb6c-402d-b7f5-5e67c974003a",
        "colab": {
          "base_uri": "https://localhost:8080/"
        }
      },
      "execution_count": 39,
      "outputs": [
        {
          "output_type": "stream",
          "name": "stdout",
          "text": [
            "tensor([4, 5])\n",
            "torch.Size([2])\n",
            "torch.Size([1, 2, 2])\n",
            "1 2 2\n"
          ]
        }
      ]
    },
    {
      "cell_type": "code",
      "source": [
        "a = torch.rand(3,3)\n",
        "b = torch.rand(3,3)\n",
        "print(a)\n",
        "print(b)\n",
        "c = a + b #element wise addition\n",
        "#or\n",
        "c = torch.add(a,b) #element wise addition\n",
        "print(c)\n",
        "a.add_(1) #adds one to each element of the tensor\n",
        "b.add_(a) #in place element wise addition. Modifies b as well.\n",
        "#In pytorch function followed by \"_\" is used for inplace operation (i.e modifies the original as well)\n",
        "c = torch.sub(a,b) #element wise subtraction\n",
        "c = torch.mul(a,b) #element wise multiplication\n",
        "c = torch.div(a,b) #element wise division"
      ],
      "metadata": {
        "id": "7pRzlWOq5X4W",
        "outputId": "158afcdb-107e-48d7-ae60-c75b429beaff",
        "colab": {
          "base_uri": "https://localhost:8080/"
        }
      },
      "execution_count": null,
      "outputs": [
        {
          "output_type": "stream",
          "name": "stdout",
          "text": [
            "tensor([[0.8605, 0.7791, 0.1740],\n",
            "        [0.9716, 0.5073, 0.6938],\n",
            "        [0.0954, 0.7237, 0.6132]])\n",
            "tensor([[0.1200, 0.0459, 0.0075],\n",
            "        [0.3836, 0.2929, 0.6005],\n",
            "        [0.1762, 0.2318, 0.0612]])\n",
            "tensor([[0.9806, 0.8250, 0.1815],\n",
            "        [1.3551, 0.8001, 1.2942],\n",
            "        [0.2716, 0.9555, 0.6745]])\n"
          ]
        },
        {
          "output_type": "execute_result",
          "data": {
            "text/plain": [
              "tensor([[0.9806, 0.8250, 0.1815],\n",
              "        [1.3551, 0.8001, 1.2942],\n",
              "        [0.2716, 0.9555, 0.6745]])"
            ]
          },
          "metadata": {},
          "execution_count": 12
        }
      ]
    },
    {
      "cell_type": "code",
      "source": [
        "x = torch.rand(4,5)\n",
        "print(x)\n",
        "print(x[:,2]) #prints all the rows and the third column\n",
        "print(x[2,:]) #prints all the third row and all the columns\n",
        "print(x[1,1]) #for printing a specific element as a tensor\n",
        "print(x[1,1].item()) #prints only the value. Command only valid for a single element"
      ],
      "metadata": {
        "id": "s5qR1rAj6bGN",
        "outputId": "cf9f1efa-5068-4df5-93d4-928b45f79e48",
        "colab": {
          "base_uri": "https://localhost:8080/"
        }
      },
      "execution_count": null,
      "outputs": [
        {
          "output_type": "stream",
          "name": "stdout",
          "text": [
            "tensor([[0.0822, 0.0459, 0.1931, 0.9215, 0.0313],\n",
            "        [0.6801, 0.0157, 0.8164, 0.4154, 0.2698],\n",
            "        [0.1590, 0.0174, 0.0883, 0.9070, 0.3025],\n",
            "        [0.5032, 0.0669, 0.6232, 0.7293, 0.0554]])\n",
            "tensor([0.1931, 0.8164, 0.0883, 0.6232])\n",
            "tensor([0.1590, 0.0174, 0.0883, 0.9070, 0.3025])\n",
            "tensor(0.0157)\n",
            "0.015674054622650146\n"
          ]
        }
      ]
    },
    {
      "cell_type": "code",
      "source": [
        "x = torch.rand(6,6)\n",
        "print(x)\n",
        "y = x.view(36) #reshaping the tensor to a 1D vector\n",
        "print(y)\n",
        "y.view_as(x) #reshapes one tensor (y) to another tensor (x)\n",
        "y = x.view(-1,4) #pytorch automatically calculates the other dimension (9 rows and 4 columns)\n",
        "print(y)\n",
        "print(y.size())"
      ],
      "metadata": {
        "id": "QHZ1Ub_b8EC8",
        "colab": {
          "base_uri": "https://localhost:8080/"
        },
        "outputId": "28a5cf5a-293b-40a0-88ca-64a6d65ba9ca"
      },
      "execution_count": null,
      "outputs": [
        {
          "output_type": "stream",
          "name": "stdout",
          "text": [
            "tensor([[0.3309, 0.4526, 0.7162, 0.2089, 0.4257, 0.3912],\n",
            "        [0.1145, 0.2543, 0.9976, 0.1835, 0.4800, 0.5791],\n",
            "        [0.5704, 0.7061, 0.1702, 0.9646, 0.9614, 0.1373],\n",
            "        [0.2024, 0.0435, 0.2956, 0.6521, 0.1169, 0.1637],\n",
            "        [0.5576, 0.1297, 0.1464, 0.9769, 0.6393, 0.6266],\n",
            "        [0.8071, 0.9964, 0.1020, 0.9383, 0.9355, 0.5240]])\n",
            "tensor([0.3309, 0.4526, 0.7162, 0.2089, 0.4257, 0.3912, 0.1145, 0.2543, 0.9976,\n",
            "        0.1835, 0.4800, 0.5791, 0.5704, 0.7061, 0.1702, 0.9646, 0.9614, 0.1373,\n",
            "        0.2024, 0.0435, 0.2956, 0.6521, 0.1169, 0.1637, 0.5576, 0.1297, 0.1464,\n",
            "        0.9769, 0.6393, 0.6266, 0.8071, 0.9964, 0.1020, 0.9383, 0.9355, 0.5240])\n",
            "tensor([[0.3309, 0.4526, 0.7162, 0.2089],\n",
            "        [0.4257, 0.3912, 0.1145, 0.2543],\n",
            "        [0.9976, 0.1835, 0.4800, 0.5791],\n",
            "        [0.5704, 0.7061, 0.1702, 0.9646],\n",
            "        [0.9614, 0.1373, 0.2024, 0.0435],\n",
            "        [0.2956, 0.6521, 0.1169, 0.1637],\n",
            "        [0.5576, 0.1297, 0.1464, 0.9769],\n",
            "        [0.6393, 0.6266, 0.8071, 0.9964],\n",
            "        [0.1020, 0.9383, 0.9355, 0.5240]])\n",
            "torch.Size([9, 4])\n"
          ]
        }
      ]
    },
    {
      "cell_type": "code",
      "source": [
        "import numpy as np\n",
        "a = torch.rand(64)\n",
        "print(a)\n",
        "b = a.numpy() #Converts to numpy array\n",
        "#If both the numpy array and tensor are on CPU then modifying one also modfies the other"
      ],
      "metadata": {
        "colab": {
          "base_uri": "https://localhost:8080/"
        },
        "id": "ue9OZwvz9Srk",
        "outputId": "3d101eef-129a-4de3-ddbd-727e01c766bd"
      },
      "execution_count": null,
      "outputs": [
        {
          "output_type": "stream",
          "name": "stdout",
          "text": [
            "tensor([0.3228, 0.8968, 0.4660, 0.5868, 0.1761, 0.9147, 0.7201, 0.3227, 0.9408,\n",
            "        0.1993, 0.1180, 0.9326, 0.1994, 0.0361, 0.8788, 0.9226, 0.4326, 0.2759,\n",
            "        0.3155, 0.0276, 0.5616, 0.8059, 0.4517, 0.3782, 0.0952, 0.5925, 0.8004,\n",
            "        0.8003, 0.8850, 0.5722, 0.7951, 0.4122, 0.5272, 0.2309, 0.3985, 0.4181,\n",
            "        0.2316, 0.8064, 0.0874, 0.6976, 0.8313, 0.0680, 0.6019, 0.0180, 0.5130,\n",
            "        0.7635, 0.0900, 0.3764, 0.1201, 0.9350, 0.6083, 0.4424, 0.1034, 0.0802,\n",
            "        0.5934, 0.3059, 0.2110, 0.2351, 0.8305, 0.2229, 0.0659, 0.6486, 0.5540,\n",
            "        0.0219])\n",
            "[0.32279563 0.8967894  0.46597403 0.5868273  0.17610067 0.9146926\n",
            " 0.7200838  0.32272267 0.940773   0.19927621 0.11801422 0.93257135\n",
            " 0.1993599  0.03610539 0.87875426 0.9225503  0.4325717  0.27593547\n",
            " 0.315502   0.02757502 0.56155103 0.80589527 0.45170045 0.37823743\n",
            " 0.09522653 0.59252524 0.80043894 0.800259   0.8849732  0.57223636\n",
            " 0.79510444 0.4121536  0.5271538  0.23093665 0.39851618 0.41806304\n",
            " 0.23159832 0.806372   0.08739346 0.6976451  0.83132505 0.0680244\n",
            " 0.601876   0.01796407 0.5129753  0.7635253  0.08999884 0.37644255\n",
            " 0.12005603 0.9350243  0.6082985  0.44236135 0.10341656 0.08024251\n",
            " 0.59342027 0.3058812  0.21097445 0.23514134 0.8304949  0.22285801\n",
            " 0.06586945 0.64856416 0.554017   0.02188033]\n"
          ]
        }
      ]
    },
    {
      "cell_type": "code",
      "source": [
        "a = np.zeros(5)\n",
        "print(a)\n",
        "b = torch.from_numpy(a)\n",
        "print(b)\n",
        "a +=1\n",
        "print(a)\n",
        "print(b)"
      ],
      "metadata": {
        "colab": {
          "base_uri": "https://localhost:8080/"
        },
        "id": "9VB813DLCs_-",
        "outputId": "7027b8d6-49fa-4096-ffcd-7aabc004e170"
      },
      "execution_count": null,
      "outputs": [
        {
          "output_type": "stream",
          "name": "stdout",
          "text": [
            "[0. 0. 0. 0. 0.]\n",
            "tensor([0., 0., 0., 0., 0.], dtype=torch.float64)\n",
            "[1. 1. 1. 1. 1.]\n",
            "tensor([1., 1., 1., 1., 1.], dtype=torch.float64)\n"
          ]
        }
      ]
    },
    {
      "cell_type": "code",
      "source": [
        "if torch.cuda.is_available():\n",
        "  print(\"yes\")\n",
        "  device = torch.device(\"cuda\")\n",
        "  x = torch.ones(5) #create a tensor\n",
        "  x = x.to(device) #moves the tensor to GPU\n",
        "  x = x.to(\"cpu\") #moves it back to CPU\n",
        "else:\n",
        "  print(\"no\")"
      ],
      "metadata": {
        "colab": {
          "base_uri": "https://localhost:8080/"
        },
        "id": "opxh6eJ8Dw-t",
        "outputId": "5551e64b-1b94-42d6-cdc5-43d98d96122c"
      },
      "execution_count": null,
      "outputs": [
        {
          "output_type": "stream",
          "name": "stdout",
          "text": [
            "no\n"
          ]
        }
      ]
    },
    {
      "cell_type": "code",
      "source": [
        "x = torch.ones(6, requires_grad=True) #by default false, states that gradient will need to be evaluated wrt this variable"
      ],
      "metadata": {
        "id": "KTT4pPvQEB5W"
      },
      "execution_count": null,
      "outputs": []
    },
    {
      "cell_type": "code",
      "source": [
        "#autograds\n",
        "import torch\n",
        "x = torch.rand(5,requires_grad=True) #buids a computation graph for this variable\n",
        "print(x)\n",
        "y = x+5\n",
        "print(y)\n",
        "z = y*y*5\n",
        "z = z.mean() #converts the tensor back to a scalar\n",
        "#y.backward() will give an error as y is not a scalar.\n",
        "z.backward() #computes dz/dx\n",
        "print(x.grad) #partial derivatives wrt to all the 5 elements in x"
      ],
      "metadata": {
        "colab": {
          "base_uri": "https://localhost:8080/"
        },
        "id": "tdIWPzgQDXLb",
        "outputId": "871e1523-5a5d-44d8-a8da-02e575cbf4a8"
      },
      "execution_count": null,
      "outputs": [
        {
          "output_type": "stream",
          "name": "stdout",
          "text": [
            "tensor([0.2744, 0.0195, 0.1935, 0.9088, 0.2416], requires_grad=True)\n",
            "tensor([5.2744, 5.0195, 5.1935, 5.9088, 5.2416], grad_fn=<AddBackward0>)\n",
            "tensor([10.5488, 10.0389, 10.3869, 11.8176, 10.4833])\n"
          ]
        }
      ]
    },
    {
      "cell_type": "code",
      "source": [
        "z = y*y*5\n",
        "#z = z.mean() #commented so z is still a vector\n",
        "#y.backward() will give an error as y is not a scalar.\n",
        "a = torch.tensor([0.1,0.2,0.3,0.4,0.5], dtype=torch.float32)\n",
        "z.backward(a) #telling PyTorch to compute the gradient of the dot product of z and a with respect to x.\n",
        "print(x.grad)"
      ],
      "metadata": {
        "colab": {
          "base_uri": "https://localhost:8080/"
        },
        "id": "Mq2qzo-zDXin",
        "outputId": "71ec95fb-76c5-4fbb-dcb0-c33544c2b146"
      },
      "execution_count": null,
      "outputs": [
        {
          "output_type": "stream",
          "name": "stdout",
          "text": [
            "tensor([15.8231, 20.0778, 25.9673, 35.4529, 36.6915])\n"
          ]
        }
      ]
    },
    {
      "cell_type": "code",
      "source": [
        " #Preventing computation of gradients, different ways of implementing\n",
        " x.requires_grad_(False) # in place command\n",
        " print(x)\n",
        " y = x.detach() #new tensor with same values without requies_grad feature\n",
        " print(y)\n",
        " x.requires_grad_(True)\n",
        " with torch.no_grad():\n",
        "  z = x + 5\n",
        "  print(z) #z does not have gradient function attribute\n"
      ],
      "metadata": {
        "colab": {
          "base_uri": "https://localhost:8080/"
        },
        "id": "UexFt1EmDXzU",
        "outputId": "d3d51a6a-54f3-4d21-d9d8-c6ff2de31bae"
      },
      "execution_count": null,
      "outputs": [
        {
          "output_type": "stream",
          "name": "stdout",
          "text": [
            "tensor([0.2744, 0.0195, 0.1935, 0.9088, 0.2416])\n",
            "tensor([0.2744, 0.0195, 0.1935, 0.9088, 0.2416])\n",
            "tensor([5.2744, 5.0195, 5.1935, 5.9088, 5.2416])\n"
          ]
        }
      ]
    },
    {
      "cell_type": "code",
      "source": [
        "#Pytorch accumulate gradient in every step of .backward() call\n",
        "#that is why it is important to set the .grad tensor with zeros before the next iteration.\n",
        "x.grad.zero_()"
      ],
      "metadata": {
        "id": "ZTv4hjiDDX0e"
      },
      "execution_count": null,
      "outputs": []
    },
    {
      "cell_type": "code",
      "source": [
        "#Backpropogation for simple linear regession with sum of square loss function\n",
        "x = torch.tensor([1.0])\n",
        "y = torch.tensor([2.0])\n",
        "w = torch.tensor([1.0],requires_grad=True)\n",
        "y_pred = w*x\n",
        "loss = (y - y_pred)**2\n",
        "loss.backward() #computes d(loss)/d(w)\n",
        "print(w.grad) #prints the gradient"
      ],
      "metadata": {
        "colab": {
          "base_uri": "https://localhost:8080/"
        },
        "id": "9oZU-1_HMeij",
        "outputId": "bcbd59cc-d7cb-4b2f-e77d-d97d88ee5b7b"
      },
      "execution_count": null,
      "outputs": [
        {
          "output_type": "stream",
          "name": "stdout",
          "text": [
            "tensor([-2.])\n"
          ]
        }
      ]
    },
    {
      "cell_type": "code",
      "source": [
        "#implementing linear regression manually\n",
        "import numpy as np\n",
        "#True function is y = 2*x\n",
        "x = np.array([1,2,3,4],dtype=np.float32)\n",
        "y = np.array([2,4,6,8],dtype=np.float32)\n",
        "w = 0.0 #intial value of weights\n",
        "def forward(x):\n",
        "  return w*x\n",
        "\n",
        "def loss(y,y_pred):\n",
        "  return ((y-y_pred)**2).mean() #loss function\n",
        "\n",
        "def gradient(x,y,y_pred):\n",
        "  return (np.multiply(2*x,y_pred-y)).mean() #computing the gradient wrt to the weight\n",
        "\n",
        "print(f'prediction before training: f(5) = {forward(5):.3f}')\n",
        "\n",
        "lr = 0.01\n",
        "num_iters = 10\n",
        "for epoch in range(num_iters):\n",
        "   y_pred = forward(x)\n",
        "   l = loss(y,y_pred)\n",
        "   dw = gradient(x,y,y_pred)\n",
        "   w -= lr*(dw)\n",
        "   print(f'epoch: {epoch+1} w: {w:.3f} Training loss: {l:.5f}')\n",
        "\n",
        "print(f'prediction after training: f(5) = {forward(5):.3f}')"
      ],
      "metadata": {
        "colab": {
          "base_uri": "https://localhost:8080/"
        },
        "id": "60F5ptWKMeoi",
        "outputId": "ad9c2736-c40d-40ac-f9fe-bdd48c36c36b"
      },
      "execution_count": null,
      "outputs": [
        {
          "output_type": "stream",
          "name": "stdout",
          "text": [
            "prediction before training: f(5) = 0.000\n",
            "epoch: 1 w: 0.300 Training loss: 30.00000\n",
            "epoch: 2 w: 0.555 Training loss: 21.67500\n",
            "epoch: 3 w: 0.772 Training loss: 15.66019\n",
            "epoch: 4 w: 0.956 Training loss: 11.31449\n",
            "epoch: 5 w: 1.113 Training loss: 8.17472\n",
            "epoch: 6 w: 1.246 Training loss: 5.90623\n",
            "epoch: 7 w: 1.359 Training loss: 4.26725\n",
            "epoch: 8 w: 1.455 Training loss: 3.08309\n",
            "epoch: 9 w: 1.537 Training loss: 2.22753\n",
            "epoch: 10 w: 1.606 Training loss: 1.60939\n",
            "prediction after training: f(5) = 8.031\n"
          ]
        }
      ]
    },
    {
      "cell_type": "code",
      "source": [
        "#Replacing gradient computation using pytorch instead of manual\n",
        "import numpy as np\n",
        "import torch\n",
        "#True function is y = 2*x\n",
        "x = torch.tensor([1,2,3,4],dtype=torch.float32)\n",
        "y = torch.tensor([2,4,6,8],dtype=torch.float32)\n",
        "w = torch.tensor([0.0], dtype=torch.float32, requires_grad=True) #intial value of weights\n",
        "def forward(x):\n",
        "  return w*x\n",
        "\n",
        "def loss(y,y_pred):\n",
        "  return ((y-y_pred)**2).mean() #loss function\n",
        "\n",
        "print(f'prediction before training: f(5) = {forward(5).item():.3f}') #formatted string can't directly print a tensor, you need to get the value of the  tensor.\n",
        "\n",
        "lr = 0.01\n",
        "num_iters = 100\n",
        "for epoch in range(num_iters):\n",
        "   y_pred = forward(x)\n",
        "   l = loss(y,y_pred)\n",
        "   l.backward() #computes the d(loss)/dw\n",
        "   dw = w.grad\n",
        "   with torch.no_grad():\n",
        "      w -= lr*(dw) #don't want to compute the gradients for this part.\n",
        "   w.grad.zero_() #prevents accumulation of gradient before the next iteration.\n",
        "   if epoch % 10 == 0:\n",
        "    print(f'epoch: {epoch+1} w: {w.item():.3f} Training loss: {l:.5f}')\n",
        "\n",
        "print(f'prediction after training: f(5) = {forward(5).item():.3f}')"
      ],
      "metadata": {
        "colab": {
          "base_uri": "https://localhost:8080/"
        },
        "id": "O9KshJTkEMkz",
        "outputId": "a680e093-dc81-4059-ca71-a1c68cf16cba"
      },
      "execution_count": null,
      "outputs": [
        {
          "output_type": "stream",
          "name": "stdout",
          "text": [
            "prediction before training: f(5) = 0.000\n",
            "epoch: 1 w: 0.300 Training loss: 30.00000\n",
            "epoch: 11 w: 1.665 Training loss: 1.16279\n",
            "epoch: 21 w: 1.934 Training loss: 0.04507\n",
            "epoch: 31 w: 1.987 Training loss: 0.00175\n",
            "epoch: 41 w: 1.997 Training loss: 0.00007\n",
            "epoch: 51 w: 1.999 Training loss: 0.00000\n",
            "epoch: 61 w: 2.000 Training loss: 0.00000\n",
            "epoch: 71 w: 2.000 Training loss: 0.00000\n",
            "epoch: 81 w: 2.000 Training loss: 0.00000\n",
            "epoch: 91 w: 2.000 Training loss: 0.00000\n",
            "prediction after training: f(5) = 10.000\n"
          ]
        }
      ]
    },
    {
      "cell_type": "code",
      "source": [
        "#Automating computation of loss and paramter updates using Pytorch\n",
        "#Basic pipeline for training part\n",
        "# Forward pass: computing the predictions\n",
        "# Backward pass: Computing the gradients\n",
        "# weight updates\n",
        "# All this in the Training loop\n",
        "\n",
        "import torch\n",
        "import torch.nn as nn #pytorch neural network module\n",
        "\n",
        "#True function is y = 2*x\n",
        "x = torch.tensor([1,2,3,4],dtype=torch.float32)\n",
        "y = torch.tensor([2,4,6,8],dtype=torch.float32)\n",
        "w = torch.tensor([0.0], dtype=torch.float32, requires_grad=True) #intial value of weights\n",
        "def forward(x):\n",
        "  return w*x\n",
        "\n",
        "\n",
        "learning_rate = 0.01\n",
        "\n",
        "loss = nn.MSELoss() #we can call this function in the training loop\n",
        "optimizer = torch.optim.SGD([w],lr=learning_rate)\n",
        "\n",
        "print(f'prediction before training: f(5) = {forward(5).item():.3f}') #formatted string can't directly print a tensor, you need to get the value of the  tensor.\n",
        "\n",
        "num_iters = 100\n",
        "for epoch in range(num_iters):\n",
        "   y_pred = forward(x)\n",
        "   l = loss(y,y_pred)\n",
        "  #  l.backward() #computes the d(loss)/dw\n",
        "  #  dw = w.grad\n",
        "  #  with torch.no_grad():\n",
        "  #     w -= lr*(dw) #don't want to compute the gradients for this part.\n",
        "  #  w.grad.zero_() #prevents accumulation of gradient before the next iteration.\n",
        "   l.backward() #although we do have the same command for computing the gradients.\n",
        "   optimizer.step() # for automating weight updates\n",
        "   optimizer.zero_grad() #zeroing the gradients.\n",
        "\n",
        "   if epoch % 10 == 0:\n",
        "    print(f'epoch: {epoch+1} w: {w.item():.3f} Training loss: {l:.5f}')\n",
        "\n",
        "print(f'prediction after training: f(5) = {forward(5).item():.3f}')\n",
        "\n",
        "\n"
      ],
      "metadata": {
        "colab": {
          "base_uri": "https://localhost:8080/"
        },
        "id": "NGtRrFasGk_J",
        "outputId": "2b1645a3-43f4-49e2-9b01-b5c678d3d930"
      },
      "execution_count": null,
      "outputs": [
        {
          "output_type": "stream",
          "name": "stdout",
          "text": [
            "prediction before training: f(5) = 0.000\n",
            "epoch: 1 w: 0.300 Training loss: 30.00000\n",
            "epoch: 11 w: 1.665 Training loss: 1.16279\n",
            "epoch: 21 w: 1.934 Training loss: 0.04507\n",
            "epoch: 31 w: 1.987 Training loss: 0.00175\n",
            "epoch: 41 w: 1.997 Training loss: 0.00007\n",
            "epoch: 51 w: 1.999 Training loss: 0.00000\n",
            "epoch: 61 w: 2.000 Training loss: 0.00000\n",
            "epoch: 71 w: 2.000 Training loss: 0.00000\n",
            "epoch: 81 w: 2.000 Training loss: 0.00000\n",
            "epoch: 91 w: 2.000 Training loss: 0.00000\n",
            "prediction after training: f(5) = 10.000\n"
          ]
        }
      ]
    },
    {
      "cell_type": "code",
      "source": [
        "#Automating the forward pass\n",
        "\n",
        "import torch\n",
        "import torch.nn as nn #pytorch neural network module\n",
        "\n",
        "#True function is y = 2*x\n",
        "x = torch.tensor([[1],[2],[3],[4]],dtype=torch.float32)\n",
        "y = torch.tensor([[2],[4],[6],[8]],dtype=torch.float32)\n",
        "\n",
        "num_samples, num_features = x.shape #each row is a sample and each column is a feature\n",
        "\n",
        "input_size = num_features\n",
        "output_size = num_features\n",
        "\n",
        "#using automated forward using pytorch\n",
        "model = nn.Linear(input_size, output_size) #one linear layer = Linear regression\n",
        "#it needs size of the input and size of the output as parameters\n",
        "\n",
        "test_input = torch.tensor([6], dtype=torch.float32)\n",
        "#test input for checking the predicition of the model\n",
        "#Also has to be a tensor\n",
        "\n",
        "learning_rate = 0.01\n",
        "\n",
        "loss = nn.MSELoss() #we can call this function in the training loop\n",
        "optimizer = torch.optim.SGD(model.parameters(),lr=learning_rate)\n",
        "#instead of w list used before, we use this command\n",
        "\n",
        "\n",
        "print(f'prediction before training: f(5) = {model(test_input).item():.3f}') #formatted string can't directly print a tensor, you need to get the value of the  tensor.\n",
        "\n",
        "num_iters = 100\n",
        "for epoch in range(num_iters):\n",
        "   y_pred = model(x) #forward pass\n",
        "   l = loss(y,y_pred)\n",
        "  #  l.backward() #computes the d(loss)/dw\n",
        "  #  dw = w.grad\n",
        "  #  with torch.no_grad():\n",
        "  #     w -= lr*(dw) #don't want to compute the gradients for this part.\n",
        "  #  w.grad.zero_() #prevents accumulation of gradient before the next iteration.\n",
        "   l.backward() #although we do have the same command for computing the gradients.\n",
        "   optimizer.step() # for automating weight updates\n",
        "   optimizer.zero_grad() #zeroing the gradients.\n",
        "\n",
        "   if epoch % 10 == 0:\n",
        "    [w,b] = model.parameters()\n",
        "    print(f'epoch: {epoch+1} w: {w[0][0].item():.3f} Training loss: {l:.5f}')\n",
        "\n",
        "print(f'prediction after training: f(5) = {model(test_input).item():.3f}')\n",
        "\n",
        "\n"
      ],
      "metadata": {
        "id": "SZXsC1qjf1sj",
        "colab": {
          "base_uri": "https://localhost:8080/"
        },
        "outputId": "925a4ca7-1051-4c2d-d7e3-6e4913036288"
      },
      "execution_count": 5,
      "outputs": [
        {
          "output_type": "stream",
          "name": "stdout",
          "text": [
            "prediction before training: f(5) = -0.121\n",
            "epoch: 1 w: 0.302 Training loss: 31.12153\n",
            "epoch: 11 w: 1.584 Training loss: 0.84659\n",
            "epoch: 21 w: 1.794 Training loss: 0.06089\n",
            "epoch: 31 w: 1.832 Training loss: 0.03830\n",
            "epoch: 41 w: 1.843 Training loss: 0.03557\n",
            "epoch: 51 w: 1.848 Training loss: 0.03349\n",
            "epoch: 61 w: 1.853 Training loss: 0.03154\n",
            "epoch: 71 w: 1.857 Training loss: 0.02970\n",
            "epoch: 81 w: 1.861 Training loss: 0.02798\n",
            "epoch: 91 w: 1.865 Training loss: 0.02635\n",
            "prediction after training: f(5) = 11.599\n"
          ]
        }
      ]
    },
    {
      "cell_type": "code",
      "source": [
        "#Creating a custom model\n",
        "\n",
        "import torch\n",
        "import torch.nn as nn #pytorch neural network module\n",
        "\n",
        "#True function is y = 2*x\n",
        "x = torch.tensor([[1],[2],[3],[4]],dtype=torch.float32)\n",
        "y = torch.tensor([[2],[4],[6],[8]],dtype=torch.float32)\n",
        "\n",
        "num_samples, num_features = x.shape #each row is a sample and each column is a feature\n",
        "\n",
        "input_size = num_features\n",
        "output_size = num_features\n",
        "\n",
        "#using automated forward using pytorch\n",
        "model = nn.Linear(input_size, output_size) #one linear layer = Linear regression\n",
        "#it needs size of the input and size of the output as parameters\n",
        "\n",
        "#standard way of creating Pytorch model\n",
        "#understand this more:\n",
        "class LinearReg(nn.Module):\n",
        "  def __init__(self, input_dimension, output_dimension):\n",
        "    super(LinearReg, self).__init__() #super class\n",
        "    self.lin = nn.Linear(input_dimension, output_dimension)\n",
        "\n",
        "  def forward(self,x):\n",
        "    return self.lin(x)\n",
        "\n",
        "model = LinearReg(input_size , output_size)\n",
        "\n",
        "\n",
        "test_input = torch.tensor([6], dtype=torch.float32)\n",
        "#test input for checking the predicition of the model\n",
        "#Also has to be a tensor\n",
        "\n",
        "learning_rate = 0.01\n",
        "\n",
        "loss = nn.MSELoss() #we can call this function in the training loop\n",
        "optimizer = torch.optim.SGD(model.parameters(),lr=learning_rate)\n",
        "#instead of w list used before, we use this command\n",
        "\n",
        "\n",
        "print(f'prediction before training: f(5) = {model(test_input).item():.3f}') #formatted string can't directly print a tensor, you need to get the value of the  tensor.\n",
        "\n",
        "num_iters = 100\n",
        "for epoch in range(num_iters):\n",
        "  #forward pass\n",
        "   y_pred = model(x)\n",
        "   l = loss(y,y_pred)\n",
        "  #  l.backward() #computes the d(loss)/dw\n",
        "  #  dw = w.grad\n",
        "  #  with torch.no_grad():\n",
        "  #     w -= lr*(dw) #don't want to compute the gradients for this part.\n",
        "  #  w.grad.zero_() #prevents accumulation of gradient before the next iteration.\n",
        "   #backward pass\n",
        "   l.backward() #although we do have the same command for computing the gradients.\n",
        "   #weight update\n",
        "   optimizer.step() # for automating weight updates\n",
        "   optimizer.zero_grad() #zeroing the gradients.\n",
        "\n",
        "   if epoch % 10 == 0:\n",
        "    [w,b] = model.parameters()\n",
        "    print(f'epoch: {epoch+1} w: {w[0][0].item():.3f} Training loss: {l:.5f}')\n",
        "\n",
        "print(f'prediction after training: f(5) = {model(test_input).item():.3f}')\n",
        "\n",
        "\n"
      ],
      "metadata": {
        "id": "r73PvQOVjGRB",
        "colab": {
          "base_uri": "https://localhost:8080/"
        },
        "outputId": "69a1aab1-888c-48fa-d72f-af245be26252"
      },
      "execution_count": 4,
      "outputs": [
        {
          "output_type": "stream",
          "name": "stdout",
          "text": [
            "prediction before training: f(5) = 0.295\n",
            "epoch: 1 w: 0.495 Training loss: 32.67535\n",
            "epoch: 11 w: 1.802 Training loss: 0.84938\n",
            "epoch: 21 w: 2.011 Training loss: 0.02573\n",
            "epoch: 31 w: 2.044 Training loss: 0.00420\n",
            "epoch: 41 w: 2.048 Training loss: 0.00344\n",
            "epoch: 51 w: 2.047 Training loss: 0.00323\n",
            "epoch: 61 w: 2.046 Training loss: 0.00304\n",
            "epoch: 71 w: 2.044 Training loss: 0.00286\n",
            "epoch: 81 w: 2.043 Training loss: 0.00269\n",
            "epoch: 91 w: 2.042 Training loss: 0.00254\n",
            "prediction after training: f(5) = 12.125\n"
          ]
        }
      ]
    },
    {
      "cell_type": "code",
      "source": [
        "from functools import total_ordering\n",
        "#linear regression using external datasets\n",
        "import torch\n",
        "import torch.nn as nn\n",
        "import numpy as np\n",
        "from sklearn import datasets\n",
        "import matplotlib.pyplot as plt\n",
        "\n",
        "x_numpy, y_numpy = datasets.make_regression(n_samples=50, n_features=1, noise=10,random_state=1)\n",
        "x = torch.from_numpy(x_numpy.astype(np.float32)) #converting from numpy to torch\n",
        "print(x.shape)\n",
        "#print(x.dtype) #converted to float32 for tensor\n",
        "y = torch.from_numpy(y_numpy.astype(np.float32))\n",
        "print(y.shape) #right now, one row with 50 values\n",
        "y = y.view(y.shape[0],1) #reshaping the tensor for 1 column\n",
        "print(y.shape) #converted to 50 rows and 1 value per row (same shape as x now)\n",
        "num_samples, num_features = x.shape\n",
        "\n",
        "#model\n",
        "out_features = 1\n",
        "model = nn.Linear(num_features,out_features)\n",
        "\n",
        "#loss and optimizer\n",
        "criterion = nn.MSELoss()\n",
        "learning_rate = 0.01\n",
        "optimizer = torch.optim.SGD(model.parameters(),lr=learning_rate)\n",
        "\n",
        "#training loops\n",
        "total_epoch = 1000\n",
        "for epoch in range(total_epoch):\n",
        "  #forward pass\n",
        "  y_pred = model(x) #predicted tensor\n",
        "  l = criterion(y_pred, y)\n",
        "\n",
        "  #backward pass\n",
        "  l.backward() #computes the gradients\n",
        "  #weight update\n",
        "  optimizer.step() #performs weight updates\n",
        "  optimizer.zero_grad()\n",
        "\n",
        "  #if (epoch+1)%10 == 0: #+1 as epoch is going from 0-99\n",
        "    #print(f'epoch: {epoch+1}, loss={l.item():.4f}, ')\n",
        "\n",
        "#plotting the predicted values\n",
        "predicted_values = model(x).detach().numpy() #First detach\n",
        "#to set requires grad = fales for converting to numpy array\n",
        "plt.plot(x_numpy,y_numpy, 'bo' )\n",
        "plt.plot(x_numpy,predicted_values, 'r') #red line for predicted values\n",
        "#plt.xlim(-2,2) #for some region specific plots\n",
        "#plt.ylim(-100,100)\n",
        "plt.show()"
      ],
      "metadata": {
        "id": "YX9oReqVjGTs",
        "colab": {
          "base_uri": "https://localhost:8080/",
          "height": 482
        },
        "outputId": "0430b0fa-8c85-4b9d-a833-7d14420854da"
      },
      "execution_count": 17,
      "outputs": [
        {
          "output_type": "stream",
          "name": "stdout",
          "text": [
            "torch.Size([50, 1])\n",
            "torch.Size([50])\n",
            "torch.Size([50, 1])\n"
          ]
        },
        {
          "output_type": "display_data",
          "data": {
            "text/plain": [
              "<Figure size 640x480 with 1 Axes>"
            ],
            "image/png": "[encoded data removed]"
          },
          "metadata": {}
        }
      ]
    },
    {
      "cell_type": "code",
      "source": [],
      "metadata": {
        "id": "HlC74MosjGWT"
      },
      "execution_count": null,
      "outputs": []
    },
    {
      "cell_type": "code",
      "source": [],
      "metadata": {
        "id": "f0xH_vhDjGZd"
      },
      "execution_count": null,
      "outputs": []
    }
  ]
}